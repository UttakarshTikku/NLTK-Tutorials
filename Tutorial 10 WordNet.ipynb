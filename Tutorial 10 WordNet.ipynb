{
 "cells": [
  {
   "cell_type": "code",
   "execution_count": 1,
   "metadata": {},
   "outputs": [],
   "source": [
    "from nltk.corpus import wordnet"
   ]
  },
  {
   "cell_type": "code",
   "execution_count": 2,
   "metadata": {},
   "outputs": [],
   "source": [
    "syns = wordnet.synsets(\"program\")"
   ]
  },
  {
   "cell_type": "code",
   "execution_count": 3,
   "metadata": {},
   "outputs": [
    {
     "name": "stdout",
     "output_type": "stream",
     "text": [
      "[Synset('plan.n.01'), Synset('program.n.02'), Synset('broadcast.n.02'), Synset('platform.n.02'), Synset('program.n.05'), Synset('course_of_study.n.01'), Synset('program.n.07'), Synset('program.n.08'), Synset('program.v.01'), Synset('program.v.02')]\n"
     ]
    }
   ],
   "source": [
    "print(syns)"
   ]
  },
  {
   "cell_type": "code",
   "execution_count": 10,
   "metadata": {},
   "outputs": [
    {
     "name": "stdout",
     "output_type": "stream",
     "text": [
      "plan :  a series of steps to be carried out or goals to be accomplished\n",
      "Example :  ['they drew up a six-step plan', 'they discussed plans for a new bond issue']\n",
      "------------------------------------------------------------------\n",
      "program :  a system of projects or services intended to meet a public need\n",
      "Example :  ['he proposed an elaborate program of public works', 'working mothers rely on the day care program']\n",
      "------------------------------------------------------------------\n",
      "broadcast :  a radio or television show\n",
      "Example :  ['did you see his program last night?']\n",
      "------------------------------------------------------------------\n",
      "platform :  a document stating the aims and principles of a political party\n",
      "Example :  ['their candidate simply ignored the party platform', 'they won the election even though they offered no positive program']\n",
      "------------------------------------------------------------------\n",
      "program :  an announcement of the events that will occur as part of a theatrical or sporting event\n",
      "Example :  [\"you can't tell the players without a program\"]\n",
      "------------------------------------------------------------------\n",
      "course_of_study :  an integrated course of academic studies\n",
      "Example :  ['he was admitted to a new program at the university']\n",
      "------------------------------------------------------------------\n",
      "program :  (computer science) a sequence of instructions that a computer can interpret and execute\n",
      "Example :  ['the program required several hundred lines of code']\n",
      "------------------------------------------------------------------\n",
      "program :  a performance (or series of performances) at a public presentation\n",
      "Example :  ['the program lasted more than two hours']\n",
      "------------------------------------------------------------------\n",
      "program :  arrange a program of or for\n",
      "Example :  ['program the 80th birthday party']\n",
      "------------------------------------------------------------------\n",
      "program :  write a computer program\n",
      "Example :  []\n",
      "------------------------------------------------------------------\n"
     ]
    }
   ],
   "source": [
    "for w in syns:\n",
    "    print(w.lemmas()[0].name(),\": \", w.definition())\n",
    "    print(\"Example : \", w.examples())\n",
    "    print(\"------------------------------------------------------------------\")"
   ]
  },
  {
   "cell_type": "code",
   "execution_count": 11,
   "metadata": {},
   "outputs": [
    {
     "name": "stdout",
     "output_type": "stream",
     "text": [
      "{'soundly', 'goodness', 'right', 'in_effect', 'estimable', 'skilful', 'honest', 'dear', 'undecomposed', 'unspoiled', 'practiced', 'skillful', 'expert', 'thoroughly', 'commodity', 'ripe', 'trade_good', 'upright', 'good', 'respectable', 'near', 'secure', 'beneficial', 'serious', 'full', 'salutary', 'safe', 'proficient', 'unspoilt', 'well', 'in_force', 'adept', 'honorable', 'dependable', 'effective', 'just', 'sound'}\n",
      "{'evilness', 'ill', 'evil', 'bad', 'badness'}\n"
     ]
    }
   ],
   "source": [
    "synonyms = []\n",
    "antonyms = []\n",
    "\n",
    "for syn in wordnet.synsets(\"good\"):\n",
    "    for l in syn.lemmas():\n",
    "        synonyms.append(l.name())\n",
    "        if l.antonyms():\n",
    "            antonyms.append(l.antonyms()[0].name())\n",
    "            \n",
    "print(set(synonyms))\n",
    "print(set(antonyms))"
   ]
  },
  {
   "cell_type": "code",
   "execution_count": 16,
   "metadata": {},
   "outputs": [
    {
     "name": "stdout",
     "output_type": "stream",
     "text": [
      "0.9090909090909091\n",
      "0.6956521739130435\n",
      "0.32\n",
      "0.38095238095238093\n"
     ]
    }
   ],
   "source": [
    "w1 = wordnet.synset(\"ship.n.01\")\n",
    "w2 = wordnet.synset(\"boat.n.01\")\n",
    "w3 = wordnet.synset(\"car.n.01\")\n",
    "w4 = wordnet.synset(\"cat.n.01\")\n",
    "w5 = wordnet.synset(\"cactus.n.01\")\n",
    "\n",
    "print(w1.wup_similarity(w2))\n",
    "print(w1.wup_similarity(w3))\n",
    "print(w1.wup_similarity(w4))\n",
    "print(w1.wup_similarity(w5))"
   ]
  }
 ],
 "metadata": {
  "kernelspec": {
   "display_name": "Python 3",
   "language": "python",
   "name": "python3"
  },
  "language_info": {
   "codemirror_mode": {
    "name": "ipython",
    "version": 3
   },
   "file_extension": ".py",
   "mimetype": "text/x-python",
   "name": "python",
   "nbconvert_exporter": "python",
   "pygments_lexer": "ipython3",
   "version": "3.7.0"
  }
 },
 "nbformat": 4,
 "nbformat_minor": 2
}
