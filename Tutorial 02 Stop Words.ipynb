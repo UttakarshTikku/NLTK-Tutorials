{
 "cells": [
  {
   "cell_type": "code",
   "execution_count": 1,
   "metadata": {},
   "outputs": [],
   "source": [
    "from nltk.corpus import stopwords\n",
    "from nltk.tokenize import word_tokenize"
   ]
  },
  {
   "cell_type": "code",
   "execution_count": 2,
   "metadata": {},
   "outputs": [],
   "source": [
    "example_sentence = \"This is an example showing off stop word filteration.\""
   ]
  },
  {
   "cell_type": "code",
   "execution_count": 3,
   "metadata": {},
   "outputs": [],
   "source": [
    "stop_words = set(stopwords.words(\"english\"))"
   ]
  },
  {
   "cell_type": "code",
   "execution_count": 4,
   "metadata": {},
   "outputs": [
    {
     "name": "stdout",
     "output_type": "stream",
     "text": [
      "{'when', 'down', 'but', 'while', 'haven', 'them', 'is', 'which', 'there', 'y', 'does', 'o', 'doesn', \"shan't\", \"mightn't\", 'few', 'any', \"doesn't\", 'am', 'all', 're', 'his', 'these', \"haven't\", 'wouldn', 'if', 'him', 'mightn', 'do', 'so', 'she', 'no', 've', 'further', 'yourselves', 'about', 'from', 'i', 'doing', \"you'll\", 'before', 'that', 'through', 'hadn', 'on', 'for', 'up', 'not', 'where', 'were', \"didn't\", 'below', \"wouldn't\", 'had', 'then', 'my', 'why', 'has', 'was', 'most', 'what', 'will', 'just', 'are', 'of', 'over', \"that'll\", 'now', 'hers', 'and', 'your', 'whom', \"don't\", \"isn't\", 'being', 'same', 'an', 's', 'because', 'its', \"hasn't\", 'here', 'd', 'with', \"should've\", 'have', 'aren', 'itself', 'who', 'some', 'weren', 'did', \"you'd\", 'into', 'how', 'he', 'me', 'ourselves', \"won't\", 'both', 'couldn', 'own', 'as', \"it's\", 'other', 'yourself', 'they', 'ma', 'to', 'until', 'our', 'off', 'by', 'against', 'in', 'ours', 'under', \"weren't\", 'the', 'very', 'at', 'each', 'ain', 'too', 'should', \"needn't\", 'it', 'yours', 'shan', 'won', 'can', 'more', 'themselves', \"hadn't\", 'this', 'you', 'out', 'm', 'her', 'don', 'we', 'himself', \"mustn't\", 'nor', 'mustn', 'those', \"aren't\", 'such', \"couldn't\", 'shouldn', 'been', 'myself', 'isn', 'between', 'after', 'needn', 'during', \"you're\", \"she's\", \"you've\", 'above', 'their', 'didn', 'having', \"shouldn't\", 'once', 'hasn', 'only', 'be', 'than', 'a', 't', \"wasn't\", 'theirs', 'or', 'll', 'again', 'wasn', 'herself'}\n"
     ]
    }
   ],
   "source": [
    "print(stop_words)"
   ]
  },
  {
   "cell_type": "code",
   "execution_count": 5,
   "metadata": {},
   "outputs": [],
   "source": [
    "words = word_tokenize(example_sentence)"
   ]
  },
  {
   "cell_type": "code",
   "execution_count": 6,
   "metadata": {},
   "outputs": [
    {
     "name": "stdout",
     "output_type": "stream",
     "text": [
      "['This', 'is', 'an', 'example', 'showing', 'off', 'stop', 'word', 'filteration', '.']\n"
     ]
    }
   ],
   "source": [
    "print(words)"
   ]
  },
  {
   "cell_type": "code",
   "execution_count": 7,
   "metadata": {},
   "outputs": [],
   "source": [
    "filtered_sentence = []\n",
    "filtered_sentence = [w for w in words if w not in stop_words]"
   ]
  },
  {
   "cell_type": "code",
   "execution_count": 8,
   "metadata": {},
   "outputs": [
    {
     "name": "stdout",
     "output_type": "stream",
     "text": [
      "['This', 'example', 'showing', 'stop', 'word', 'filteration', '.']\n"
     ]
    }
   ],
   "source": [
    "print(filtered_sentence)"
   ]
  }
 ],
 "metadata": {
  "kernelspec": {
   "display_name": "Python 3",
   "language": "python",
   "name": "python3"
  },
  "language_info": {
   "codemirror_mode": {
    "name": "ipython",
    "version": 3
   },
   "file_extension": ".py",
   "mimetype": "text/x-python",
   "name": "python",
   "nbconvert_exporter": "python",
   "pygments_lexer": "ipython3",
   "version": "3.7.0"
  }
 },
 "nbformat": 4,
 "nbformat_minor": 2
}
